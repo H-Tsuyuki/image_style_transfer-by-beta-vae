{
 "cells": [
  {
   "cell_type": "code",
   "execution_count": 1,
   "metadata": {},
   "outputs": [],
   "source": [
    "import torch\n",
    "import torch.nn as nn"
   ]
  },
  {
   "cell_type": "markdown",
   "metadata": {},
   "source": [
    "#### Input (x) and Output (y)"
   ]
  },
  {
   "cell_type": "code",
   "execution_count": 2,
   "metadata": {},
   "outputs": [],
   "source": [
    "x = torch.randn(10, 3)\n",
    "y = torch.randn(10, 2)"
   ]
  },
  {
   "cell_type": "markdown",
   "metadata": {},
   "source": [
    "#### Model: $ M(x) = W x + b $"
   ]
  },
  {
   "cell_type": "code",
   "execution_count": 3,
   "metadata": {},
   "outputs": [
    {
     "name": "stdout",
     "output_type": "stream",
     "text": [
      "W:  Parameter containing:\n",
      "tensor([[ 0.3345,  0.2204,  0.2693],\n",
      "        [ 0.0158, -0.1395,  0.5564]], requires_grad=True)\n",
      "b:  Parameter containing:\n",
      "tensor([0.1030, 0.2012], requires_grad=True)\n"
     ]
    }
   ],
   "source": [
    "M = nn.Linear(3,2)\n",
    "print('W: ',M.weight)\n",
    "print('b: ',M.bias)"
   ]
  },
  {
   "cell_type": "markdown",
   "metadata": {},
   "source": [
    "#### Loss function (criterion) and optimization approach (optimizer)"
   ]
  },
  {
   "cell_type": "code",
   "execution_count": 4,
   "metadata": {},
   "outputs": [],
   "source": [
    "criterion = nn.MSELoss()\n",
    "optimizer = torch.optim.SGD(M.parameters(), lr=0.01)"
   ]
  },
  {
   "cell_type": "markdown",
   "metadata": {},
   "source": [
    "#### Computing loss function\n",
    "Pytorch uses a computation graph and reverse mode to compute the gradients numerically. They are added and have to be reset at each iteration.\n",
    "\n",
    ".zero_grad() is needed to reset the gradients that are accumulated"
   ]
  },
  {
   "cell_type": "code",
   "execution_count": 5,
   "metadata": {},
   "outputs": [
    {
     "name": "stdout",
     "output_type": "stream",
     "text": [
      "tensor(0.8316, grad_fn=<MseLossBackward>)\n"
     ]
    }
   ],
   "source": [
    "optimizer.zero_grad() # IMPORTANT!\n",
    "pred = M(x)\n",
    "loss = criterion(pred,y)\n",
    "print(loss)"
   ]
  },
  {
   "cell_type": "markdown",
   "metadata": {},
   "source": [
    "#### Backpropagation\n",
    "\n",
    "Model weights are optimized iteratively using stochastic gradient descent."
   ]
  },
  {
   "cell_type": "code",
   "execution_count": 6,
   "metadata": {},
   "outputs": [
    {
     "name": "stdout",
     "output_type": "stream",
     "text": [
      "dL/dW:  tensor([[0.5653, 0.1845, 0.1116],\n",
      "        [0.0474, 0.4121, 0.5427]])\n",
      "dL/db:  tensor([0.1811, 0.4516])\n"
     ]
    }
   ],
   "source": [
    "loss.backward() # Automatic differentiation\n",
    "print ('dL/dW: ', M.weight.grad) \n",
    "print ('dL/db: ', M.bias.grad)\n",
    "optimizer.step() # Updates weights"
   ]
  },
  {
   "cell_type": "markdown",
   "metadata": {},
   "source": [
    "#### Loss decreases"
   ]
  },
  {
   "cell_type": "code",
   "execution_count": 7,
   "metadata": {},
   "outputs": [
    {
     "name": "stdout",
     "output_type": "stream",
     "text": [
      "tensor(0.8210, grad_fn=<MseLossBackward>)\n"
     ]
    }
   ],
   "source": [
    "pred = M(x)\n",
    "loss = criterion(pred,y)\n",
    "print(loss)"
   ]
  },
  {
   "cell_type": "markdown",
   "metadata": {},
   "source": [
    "#### Arbitrary loss functions thanks to automatic differentiation"
   ]
  },
  {
   "cell_type": "code",
   "execution_count": 8,
   "metadata": {},
   "outputs": [
    {
     "name": "stdout",
     "output_type": "stream",
     "text": [
      "tensor(0.7569, grad_fn=<MeanBackward0>)\n",
      "dL/dW:  tensor([[0.8170, 0.1694, 0.1238],\n",
      "        [0.1314, 0.6274, 0.8551]])\n",
      "dL/db:  tensor([0.2811, 0.5516])\n"
     ]
    }
   ],
   "source": [
    "criterion = lambda x, y: torch.pow(x-y, 2).mean() # Equivalenet to nn.MSELoss()\n",
    "criterion = lambda x, y: torch.abs(x-y).mean()\n",
    "pred = M(x)\n",
    "loss = criterion(pred,y)\n",
    "print(loss)\n",
    "loss.backward()\n",
    "print ('dL/dW: ', M.weight.grad) \n",
    "print ('dL/db: ', M.bias.grad)"
   ]
  },
  {
   "cell_type": "code",
   "execution_count": null,
   "metadata": {},
   "outputs": [],
   "source": []
  }
 ],
 "metadata": {
  "kernelspec": {
   "display_name": "Python 3",
   "language": "python",
   "name": "python3"
  },
  "language_info": {
   "codemirror_mode": {
    "name": "ipython",
    "version": 3
   },
   "file_extension": ".py",
   "mimetype": "text/x-python",
   "name": "python",
   "nbconvert_exporter": "python",
   "pygments_lexer": "ipython3",
   "version": "3.7.0"
  }
 },
 "nbformat": 4,
 "nbformat_minor": 2
}
