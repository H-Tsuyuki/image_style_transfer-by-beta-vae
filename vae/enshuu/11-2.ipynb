{
 "cells": [
  {
   "cell_type": "markdown",
   "metadata": {},
   "source": [
    "### Computing spatial support\n",
    "\n",
    "#### Notes\n",
    "\n",
    "1. If the last layer is Sigmoid or TanH, we have to remove it to get a good estimate.\n",
    "1. Using floats will lead to oveflow errors so we have to use doubles.|"
   ]
  },
  {
   "cell_type": "code",
   "execution_count": null,
   "metadata": {},
   "outputs": [],
   "source": [
    "import torch\n",
    "import torch.nn as nn\n",
    "import torch.nn.functional as F"
   ]
  },
  {
   "cell_type": "markdown",
   "metadata": {},
   "source": [
    "#### Pytorch super resolution example\n",
    "\n",
    "https://github.com/pytorch/examples/blob/master/super_resolution/model.py"
   ]
  },
  {
   "cell_type": "code",
   "execution_count": null,
   "metadata": {},
   "outputs": [],
   "source": [
    "class Net(nn.Module):\n",
    "    def __init__(self, upscale_factor):\n",
    "        super(Net, self).__init__()\n",
    "\n",
    "        self.relu = nn.ReLU()\n",
    "        self.conv1 = nn.Conv2d( 1, 64, (5, 5), (1, 1), (2, 2))\n",
    "        self.conv2 = nn.Conv2d(64, 64, (3, 3), (1, 1), (1, 1))\n",
    "        self.conv3 = nn.Conv2d(64, 32, (3, 3), (1, 1), (1, 1))\n",
    "        self.conv4 = nn.Conv2d(32, upscale_factor ** 2, (3, 3), (1, 1), (1, 1))\n",
    "        self.pixel_shuffle = nn.PixelShuffle(upscale_factor)\n",
    "\n",
    "    def forward(self, x):\n",
    "        x = self.relu(self.conv1(x))\n",
    "        x = self.relu(self.conv2(x))\n",
    "        x = self.relu(self.conv3(x))\n",
    "        x = self.pixel_shuffle(self.conv4(x))\n",
    "        return x"
   ]
  },
  {
   "cell_type": "markdown",
   "metadata": {},
   "source": [
    "#### Set convolutional layer weights to 1 with bias set to 0"
   ]
  },
  {
   "cell_type": "code",
   "execution_count": null,
   "metadata": {},
   "outputs": [],
   "source": [
    "model = Net(2)\n",
    "model.eval()\n",
    "model.double()\n",
    "for name, p in model.named_parameters():\n",
    "    if 'weight' in name:\n",
    "        nn.init.constant_(p,1)\n",
    "    elif 'bias' in name:\n",
    "        nn.init.constant_(p,0)"
   ]
  },
  {
   "cell_type": "code",
   "execution_count": null,
   "metadata": {},
   "outputs": [],
   "source": [
    "s = 32\n",
    "I = torch.zeros(1,1,s,s)\n",
    "I[0,0,int(s/2-1),int(s/2-1)] = 1\n",
    "with torch.no_grad():\n",
    "    I = model(I.double())\n",
    "I = F.interpolate(I, scale_factor=0.5, mode='bilinear', align_corners=True)"
   ]
  },
  {
   "cell_type": "code",
   "execution_count": null,
   "metadata": {},
   "outputs": [],
   "source": [
    "%matplotlib inline\n",
    "import matplotlib.pyplot as plt\n",
    "plt.imshow(I[0,0,:,:]/I.max())"
   ]
  },
  {
   "cell_type": "code",
   "execution_count": null,
   "metadata": {},
   "outputs": [],
   "source": [
    "plt.imshow(I[0,0,:,:]>0)"
   ]
  },
  {
   "cell_type": "markdown",
   "metadata": {},
   "source": [
    "#### Deeper network (sketch simplification)"
   ]
  },
  {
   "cell_type": "code",
   "execution_count": null,
   "metadata": {},
   "outputs": [],
   "source": [
    "class Conv( nn.Module ):\n",
    "    def __init__(self, in_planes, out_planes, stride=1, kernel_size=3, padding=1 ):\n",
    "        super(Conv, self).__init__()\n",
    "        self.conv    = nn.Conv2d( in_planes, out_planes, kernel_size=kernel_size, stride=stride, padding=padding )\n",
    "        self.bn      = nn.BatchNorm2d( out_planes )\n",
    "    def forward(self, x):\n",
    "        return F.relu( self.bn( self.conv( x ) ) )\n",
    "class Upsample( nn.Module ):\n",
    "    def __init__(self, in_planes, out_planes ):\n",
    "        super(Upsample, self).__init__()\n",
    "        self.conv = nn.ConvTranspose2d( in_planes, out_planes, kernel_size=4, stride=2, padding=1 )\n",
    "        self.bn   = nn.BatchNorm2d( out_planes )\n",
    "    def forward(self, x):\n",
    "        return F.relu( self.bn( self.conv( x ) ) )\n",
    "class Net( nn.Module ):\n",
    "    def __init__(self):\n",
    "        super(Net, self).__init__()\n",
    "        self.layers = nn.Sequential(\n",
    "             Conv(  1,  48, 2, 7, 3 ),\n",
    "             Conv( 48, 128 ),\n",
    "             Conv( 128, 128 ),\n",
    "             Conv( 128, 128, 2 ), # 1/4\n",
    "             Conv( 128, 256 ),\n",
    "             Conv( 256, 256 ),\n",
    "             Conv( 256, 256, 2 ), # --> 1/8\n",
    "             Conv( 256, 512 ),\n",
    "             Conv( 512, 1024 ),\n",
    "             Conv( 1024, 1024 ),\n",
    "             Conv( 1024, 1024 ),\n",
    "             Conv( 1024, 1024 ),\n",
    "             Conv( 1024, 512 ),\n",
    "             Conv( 512, 256 ),\n",
    "             Upsample( 256, 256 ),\n",
    "             Conv( 256, 256 ),\n",
    "             Conv( 256, 128 ),\n",
    "             Upsample( 128, 128 ),\n",
    "             Conv( 128, 128 ),\n",
    "             Conv( 128, 128 ),\n",
    "             Conv( 128, 48 ),\n",
    "             Upsample( 48, 48 ),\n",
    "             Conv( 48, 24 ),\n",
    "             nn.Conv2d( 24, 1, kernel_size=3, stride=1, padding=1 ) )\n",
    "    def forward(self, x):\n",
    "        return self.layers( x )"
   ]
  },
  {
   "cell_type": "code",
   "execution_count": null,
   "metadata": {},
   "outputs": [],
   "source": [
    "model = Net()\n",
    "model.eval()\n",
    "model.double()\n",
    "for name, p in model.named_parameters():\n",
    "    if 'weight' in name:\n",
    "        nn.init.constant_(p,1)\n",
    "    elif 'bias' in name:\n",
    "        nn.init.constant_(p,0)\n",
    "for name, b in model.named_buffers():\n",
    "    if 'running_mean' in name:\n",
    "        b.fill_(0)\n",
    "    elif 'running_var' in name:\n",
    "        b.fill_(1)"
   ]
  },
  {
   "cell_type": "code",
   "execution_count": null,
   "metadata": {},
   "outputs": [],
   "source": [
    "s = 256\n",
    "I = torch.zeros(1,1,s,s)\n",
    "I[0,0,int(s/2-1),int(s/2-1)] = 1\n",
    "with torch.no_grad():\n",
    "    I = model(I.double())\n",
    "plt.imshow(I[0,0,:,:]/I.max())"
   ]
  },
  {
   "cell_type": "code",
   "execution_count": null,
   "metadata": {},
   "outputs": [],
   "source": [
    "plt.imshow(I[0,0,:,:]>0)"
   ]
  },
  {
   "cell_type": "markdown",
   "metadata": {},
   "source": [
    "#### Resnet-based models"
   ]
  },
  {
   "cell_type": "code",
   "execution_count": null,
   "metadata": {},
   "outputs": [],
   "source": [
    "def conv3x3(in_planes, out_planes, stride=1):\n",
    "    \"\"\"3x3 convolution with padding\"\"\"\n",
    "    return nn.Conv2d(in_planes, out_planes, kernel_size=3, stride=stride,\n",
    "                     padding=1, bias=False)\n",
    "def conv1x1(in_planes, out_planes, stride=1):\n",
    "    \"\"\"1x1 convolution\"\"\"\n",
    "    return nn.Conv2d(in_planes, out_planes, kernel_size=1, stride=stride, bias=False)\n",
    "class BasicBlock(nn.Module):\n",
    "    expansion = 1\n",
    "\n",
    "    def __init__(self, inplanes, planes, stride=1, downsample=None):\n",
    "        super(BasicBlock, self).__init__()\n",
    "        self.conv1 = conv3x3(inplanes, planes, stride)\n",
    "        self.bn1 = nn.BatchNorm2d(planes)\n",
    "        self.relu = nn.ReLU(inplace=True)\n",
    "        self.conv2 = conv3x3(planes, planes)\n",
    "        self.bn2 = nn.BatchNorm2d(planes)\n",
    "        self.downsample = downsample\n",
    "        self.stride = stride\n",
    "\n",
    "    def forward(self, x):\n",
    "        identity = x\n",
    "\n",
    "        out = self.conv1(x)\n",
    "        out = self.bn1(out)\n",
    "        out = self.relu(out)\n",
    "\n",
    "        out = self.conv2(out)\n",
    "        out = self.bn2(out)\n",
    "\n",
    "        if self.downsample is not None:\n",
    "            identity = self.downsample(x)\n",
    "\n",
    "        out += identity\n",
    "        out = self.relu(out)\n",
    "\n",
    "        return out\n",
    "    \n",
    "class Net(nn.Module):\n",
    "    def __init__(self):\n",
    "        super(Net, self).__init__()\n",
    "        self.blocks = nn.ModuleList([BasicBlock(1,32)])\n",
    "        for i in range(55):\n",
    "            self.blocks.append( BasicBlock(32,32) )\n",
    "\n",
    "    def forward(self, x):\n",
    "        for b in self.blocks:\n",
    "            x = b(x)\n",
    "        return x"
   ]
  },
  {
   "cell_type": "code",
   "execution_count": null,
   "metadata": {},
   "outputs": [],
   "source": [
    "model = Net()\n",
    "model.double()\n",
    "model.eval()\n",
    "for name, p in model.named_parameters():\n",
    "    if 'weight' in name:\n",
    "        nn.init.constant_(p,1)\n",
    "    elif 'bias' in name:\n",
    "        nn.init.constant_(p,0)\n",
    "for name, b in model.named_buffers():\n",
    "    if 'running_mean' in name:\n",
    "        b.fill_(0)\n",
    "    elif 'running_var' in name:\n",
    "        b.fill_(1)"
   ]
  },
  {
   "cell_type": "code",
   "execution_count": null,
   "metadata": {},
   "outputs": [],
   "source": [
    "s = 256\n",
    "I = torch.zeros(1,1,s,s)\n",
    "I[0,0,int(s/2-1),int(s/2-1)] = 1\n",
    "with torch.no_grad():\n",
    "    I = model(I.double())\n",
    "plt.imshow(I[0,0,:,:]/I.max())"
   ]
  },
  {
   "cell_type": "code",
   "execution_count": null,
   "metadata": {},
   "outputs": [],
   "source": [
    "plt.imshow(I[0,0,:,:]>0)"
   ]
  },
  {
   "cell_type": "code",
   "execution_count": null,
   "metadata": {},
   "outputs": [],
   "source": []
  }
 ],
 "metadata": {
  "kernelspec": {
   "display_name": "Python 3",
   "language": "python",
   "name": "python3"
  },
  "language_info": {
   "codemirror_mode": {
    "name": "ipython",
    "version": 3
   },
   "file_extension": ".py",
   "mimetype": "text/x-python",
   "name": "python",
   "nbconvert_exporter": "python",
   "pygments_lexer": "ipython3",
   "version": "3.7.3"
  }
 },
 "nbformat": 4,
 "nbformat_minor": 2
}
